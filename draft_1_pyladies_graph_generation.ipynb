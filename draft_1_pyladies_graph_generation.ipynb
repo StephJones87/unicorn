{
  "nbformat": 4,
  "nbformat_minor": 0,
  "metadata": {
    "colab": {
      "provenance": [],
      "authorship_tag": "ABX9TyNw9Ds2v9ZcesVG2ZqTXqo5",
      "include_colab_link": true
    },
    "kernelspec": {
      "name": "python3",
      "display_name": "Python 3"
    },
    "language_info": {
      "name": "python"
    }
  },
  "cells": [
    {
      "cell_type": "markdown",
      "metadata": {
        "id": "view-in-github",
        "colab_type": "text"
      },
      "source": [
        "<a href=\"https://colab.research.google.com/github/StephJones87/unicorn/blob/main/draft_1_pyladies_graph_generation.ipynb\" target=\"_parent\"><img src=\"https://colab.research.google.com/assets/colab-badge.svg\" alt=\"Open In Colab\"/></a>"
      ]
    },
    {
      "cell_type": "code",
      "execution_count": 52,
      "metadata": {
        "id": "ejYX36KAZPiD"
      },
      "outputs": [],
      "source": [
        "import requests\n",
        "from collections import defaultdict\n",
        "from datetime import datetime\n",
        "import matplotlib.pyplot as plt"
      ]
    },
    {
      "cell_type": "code",
      "source": [
        "# setting the variables\n",
        "\n",
        "api_url = 'https://clinicaltrials.gov/api/v2/studies?'\n",
        "\n",
        "#condition = 'endometriosis'\n",
        "#condition = 'menopause'\n",
        "condition = 'Polycystic Ovary Syndrome'\n",
        "# condition = 'Adenomyosis'\n",
        "# condition = 'Erectile Dysfunction'\n",
        "\n",
        "\n",
        "query_parameters = {\n",
        "    \"query.cond\": condition,\n",
        "    \"fields\": \"ProtocolSection\",\n",
        "    \"pageSize\": '10000',\n",
        "    \"format\": \"json\"\n",
        "}"
      ],
      "metadata": {
        "id": "-1f96DiaeJEk"
      },
      "execution_count": 53,
      "outputs": []
    },
    {
      "cell_type": "code",
      "source": [
        "def get_clinical_trial_info(api_endpoint, params={}):\n",
        "        response = requests.get(api_endpoint, params=params)\n",
        "        data = response.json()\n",
        "        return data"
      ],
      "metadata": {
        "id": "GQ8XRGZkeZXm"
      },
      "execution_count": 54,
      "outputs": []
    },
    {
      "cell_type": "code",
      "source": [
        "def extract_dates_from_data(data):\n",
        "  dates_list = []\n",
        "  for study in data['studies']:\n",
        "    dates_list.append(study['protocolSection']['statusModule']['studyFirstSubmitDate'])\n",
        "  return dates_list"
      ],
      "metadata": {
        "id": "NRKHf7yKuACQ"
      },
      "execution_count": 55,
      "outputs": []
    },
    {
      "cell_type": "code",
      "source": [
        "def normalize_date(date_str):\n",
        "    try:\n",
        "        # Attempt to parse the date in various formats\n",
        "        date_formats = [\"%Y-%m-%d\", \"%d/%m/%Y\", \"%Y-%m\"]\n",
        "        for format_str in date_formats:\n",
        "            try:\n",
        "                date_obj = datetime.strptime(date_str, format_str)\n",
        "                return date_obj.strftime(\"%Y-%m-%d\")\n",
        "            except ValueError:\n",
        "                pass  # Try the next format\n",
        "    except Exception as e:\n",
        "        print(f\"Error normalizing date '{date_str}': {e}\")\n",
        "    return None"
      ],
      "metadata": {
        "id": "X9v0h5_epjJR"
      },
      "execution_count": 56,
      "outputs": []
    },
    {
      "cell_type": "code",
      "source": [
        "def aggregate_dates_by_year(date_list):\n",
        "    year_counts = defaultdict(int)\n",
        "    for date_str in date_list:\n",
        "      normalized_date = normalize_date(date_str)\n",
        "      if normalized_date:\n",
        "          year = normalized_date[:4]  # Extract the year\n",
        "          year_counts[year] += 1\n",
        "\n",
        "    return dict(year_counts)"
      ],
      "metadata": {
        "id": "NiMhAtgVzmuV"
      },
      "execution_count": 57,
      "outputs": []
    },
    {
      "cell_type": "code",
      "source": [
        "def plot_bar_chart(data_dict, x_label, y_label, title):\n",
        "    categories = list(data_dict.keys())\n",
        "    counts = list(data_dict.values())\n",
        "\n",
        "    # Generate a list of different colors for each bar\n",
        "    colors = ['skyblue', 'lightcoral', 'lightgreen', 'lightsalmon', 'lightseagreen']\n",
        "\n",
        "    # Create a bar graph with custom colors\n",
        "    plt.figure(figsize=(10, 6))\n",
        "    plt.bar(categories, counts, color=colors[:len(categories)])\n",
        "    plt.xlabel(x_label)\n",
        "    plt.ylabel(y_label)\n",
        "    plt.title(title)\n",
        "    plt.xticks(rotation=45)  # Rotate x-axis labels for readability\n",
        "\n",
        "    # Display the graph\n",
        "    plt.tight_layout()\n",
        "    plt.show()"
      ],
      "metadata": {
        "id": "Iv4acvGe2U6r"
      },
      "execution_count": 58,
      "outputs": []
    },
    {
      "cell_type": "code",
      "source": [
        "api_data = get_clinical_trial_info(api_url, query_parameters)\n",
        "dates_data = extract_dates_from_data(api_data)\n",
        "print(len(dates_data))\n",
        "aggregated_data = aggregate_dates_by_year(dates_data)\n",
        "sorted_year_counts = dict(sorted(aggregated_data.items()))  # Optional: Sort by year\n",
        "\n",
        "for year, count in sorted_year_counts.items():\n",
        "  print(f\"Year: {year}, Count: {count}\")\n",
        "\n",
        "xlabel = \"Year\"\n",
        "ylabel = \"Number of Studies\"\n",
        "title = condition\n",
        "plot_bar_chart(sorted_year_counts, xlabel, ylabel, title)"
      ],
      "metadata": {
        "id": "B4fT-8NApRRs",
        "colab": {
          "base_uri": "https://localhost:8080/",
          "height": 1000
        },
        "outputId": "b82531e2-1a7b-44e0-e552-47e316ad213d"
      },
      "execution_count": 59,
      "outputs": [
        {
          "output_type": "stream",
          "name": "stdout",
          "text": [
            "820\n",
            "Year: 1999, Count: 1\n",
            "Year: 2000, Count: 3\n",
            "Year: 2002, Count: 1\n",
            "Year: 2003, Count: 1\n",
            "Year: 2005, Count: 12\n",
            "Year: 2006, Count: 13\n",
            "Year: 2007, Count: 34\n",
            "Year: 2008, Count: 33\n",
            "Year: 2009, Count: 32\n",
            "Year: 2010, Count: 37\n",
            "Year: 2011, Count: 50\n",
            "Year: 2012, Count: 50\n",
            "Year: 2013, Count: 44\n",
            "Year: 2014, Count: 44\n",
            "Year: 2015, Count: 50\n",
            "Year: 2016, Count: 35\n",
            "Year: 2017, Count: 54\n",
            "Year: 2018, Count: 52\n",
            "Year: 2019, Count: 55\n",
            "Year: 2020, Count: 43\n",
            "Year: 2021, Count: 58\n",
            "Year: 2022, Count: 53\n",
            "Year: 2023, Count: 65\n"
          ]
        },
        {
          "output_type": "display_data",
          "data": {
            "text/plain": [
              "<Figure size 1000x600 with 1 Axes>"
            ],
            "image/png": "[encoded data removed]"
          },
          "metadata": {}
        }
      ]
    }
  ]
}